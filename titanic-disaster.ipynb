{
 "cells": [
  {
   "cell_type": "code",
   "execution_count": 1,
   "id": "c2ea48a3",
   "metadata": {
    "_cell_guid": "b1076dfc-b9ad-4769-8c92-a6c4dae69d19",
    "_uuid": "8f2839f25d086af736a60e9eeb907d3b93b6e0e5",
    "execution": {
     "iopub.execute_input": "2022-07-25T16:20:16.213862Z",
     "iopub.status.busy": "2022-07-25T16:20:16.212579Z",
     "iopub.status.idle": "2022-07-25T16:20:16.233541Z",
     "shell.execute_reply": "2022-07-25T16:20:16.232458Z"
    },
    "papermill": {
     "duration": 0.040734,
     "end_time": "2022-07-25T16:20:16.236946",
     "exception": false,
     "start_time": "2022-07-25T16:20:16.196212",
     "status": "completed"
    },
    "tags": []
   },
   "outputs": [
    {
     "name": "stdout",
     "output_type": "stream",
     "text": [
      "/kaggle/input/titanic/train.csv\n",
      "/kaggle/input/titanic/test.csv\n",
      "/kaggle/input/titanic/gender_submission.csv\n"
     ]
    }
   ],
   "source": [
    "# This Python 3 environment comes with many helpful analytics libraries installed\n",
    "# It is defined by the kaggle/python Docker image: https://github.com/kaggle/docker-python\n",
    "# For example, here's several helpful packages to load\n",
    "\n",
    "import numpy as np # linear algebra\n",
    "import pandas as pd # data processing, CSV file I/O (e.g. pd.read_csv)\n",
    "\n",
    "# Input data files are available in the read-only \"../input/\" directory\n",
    "# For example, running this (by clicking run or pressing Shift+Enter) will list all files under the input directory\n",
    "\n",
    "import os\n",
    "for dirname, _, filenames in os.walk('/kaggle/input'):\n",
    "    for filename in filenames:\n",
    "        print(os.path.join(dirname, filename))\n",
    "\n",
    "# You can write up to 20GB to the current directory (/kaggle/working/) that gets preserved as output when you create a version using \"Save & Run All\" \n",
    "# You can also write temporary files to /kaggle/temp/, but they won't be saved outside of the current session"
   ]
  },
  {
   "cell_type": "code",
   "execution_count": 2,
   "id": "3f8db1dc",
   "metadata": {
    "execution": {
     "iopub.execute_input": "2022-07-25T16:20:16.263953Z",
     "iopub.status.busy": "2022-07-25T16:20:16.263394Z",
     "iopub.status.idle": "2022-07-25T16:20:17.517336Z",
     "shell.execute_reply": "2022-07-25T16:20:17.516010Z"
    },
    "papermill": {
     "duration": 1.270752,
     "end_time": "2022-07-25T16:20:17.521129",
     "exception": false,
     "start_time": "2022-07-25T16:20:16.250377",
     "status": "completed"
    },
    "tags": []
   },
   "outputs": [],
   "source": [
    "import matplotlib.pyplot as plt\n",
    "import seaborn as sns"
   ]
  },
  {
   "cell_type": "code",
   "execution_count": 3,
   "id": "aa7d9af2",
   "metadata": {
    "execution": {
     "iopub.execute_input": "2022-07-25T16:20:17.547211Z",
     "iopub.status.busy": "2022-07-25T16:20:17.546692Z",
     "iopub.status.idle": "2022-07-25T16:20:17.578812Z",
     "shell.execute_reply": "2022-07-25T16:20:17.577367Z"
    },
    "papermill": {
     "duration": 0.049078,
     "end_time": "2022-07-25T16:20:17.581921",
     "exception": false,
     "start_time": "2022-07-25T16:20:17.532843",
     "status": "completed"
    },
    "tags": []
   },
   "outputs": [],
   "source": [
    "df_train = pd.read_csv('../input/titanic/train.csv')\n",
    "df_test = pd.read_csv('../input/titanic/test.csv')"
   ]
  },
  {
   "cell_type": "code",
   "execution_count": 4,
   "id": "cae60755",
   "metadata": {
    "execution": {
     "iopub.execute_input": "2022-07-25T16:20:17.607337Z",
     "iopub.status.busy": "2022-07-25T16:20:17.606370Z",
     "iopub.status.idle": "2022-07-25T16:20:17.612522Z",
     "shell.execute_reply": "2022-07-25T16:20:17.611634Z"
    },
    "papermill": {
     "duration": 0.022818,
     "end_time": "2022-07-25T16:20:17.616264",
     "exception": false,
     "start_time": "2022-07-25T16:20:17.593446",
     "status": "completed"
    },
    "tags": []
   },
   "outputs": [
    {
     "name": "stdout",
     "output_type": "stream",
     "text": [
      "trainset: (891, 12)\n",
      "testset: (418, 11)\n"
     ]
    }
   ],
   "source": [
    "print('trainset:',df_train.shape)\n",
    "print('testset:',df_test.shape)"
   ]
  },
  {
   "cell_type": "code",
   "execution_count": 5,
   "id": "b24a62e6",
   "metadata": {
    "execution": {
     "iopub.execute_input": "2022-07-25T16:20:17.642962Z",
     "iopub.status.busy": "2022-07-25T16:20:17.642425Z",
     "iopub.status.idle": "2022-07-25T16:20:17.671421Z",
     "shell.execute_reply": "2022-07-25T16:20:17.670132Z"
    },
    "papermill": {
     "duration": 0.045213,
     "end_time": "2022-07-25T16:20:17.674162",
     "exception": false,
     "start_time": "2022-07-25T16:20:17.628949",
     "status": "completed"
    },
    "tags": []
   },
   "outputs": [
    {
     "data": {
      "text/html": [
       "<div>\n",
       "<style scoped>\n",
       "    .dataframe tbody tr th:only-of-type {\n",
       "        vertical-align: middle;\n",
       "    }\n",
       "\n",
       "    .dataframe tbody tr th {\n",
       "        vertical-align: top;\n",
       "    }\n",
       "\n",
       "    .dataframe thead th {\n",
       "        text-align: right;\n",
       "    }\n",
       "</style>\n",
       "<table border=\"1\" class=\"dataframe\">\n",
       "  <thead>\n",
       "    <tr style=\"text-align: right;\">\n",
       "      <th></th>\n",
       "      <th>PassengerId</th>\n",
       "      <th>Survived</th>\n",
       "      <th>Pclass</th>\n",
       "      <th>Name</th>\n",
       "      <th>Sex</th>\n",
       "      <th>Age</th>\n",
       "      <th>SibSp</th>\n",
       "      <th>Parch</th>\n",
       "      <th>Ticket</th>\n",
       "      <th>Fare</th>\n",
       "      <th>Cabin</th>\n",
       "      <th>Embarked</th>\n",
       "    </tr>\n",
       "  </thead>\n",
       "  <tbody>\n",
       "    <tr>\n",
       "      <th>0</th>\n",
       "      <td>1</td>\n",
       "      <td>0</td>\n",
       "      <td>3</td>\n",
       "      <td>Braund, Mr. Owen Harris</td>\n",
       "      <td>male</td>\n",
       "      <td>22.0</td>\n",
       "      <td>1</td>\n",
       "      <td>0</td>\n",
       "      <td>A/5 21171</td>\n",
       "      <td>7.2500</td>\n",
       "      <td>NaN</td>\n",
       "      <td>S</td>\n",
       "    </tr>\n",
       "    <tr>\n",
       "      <th>1</th>\n",
       "      <td>2</td>\n",
       "      <td>1</td>\n",
       "      <td>1</td>\n",
       "      <td>Cumings, Mrs. John Bradley (Florence Briggs Th...</td>\n",
       "      <td>female</td>\n",
       "      <td>38.0</td>\n",
       "      <td>1</td>\n",
       "      <td>0</td>\n",
       "      <td>PC 17599</td>\n",
       "      <td>71.2833</td>\n",
       "      <td>C85</td>\n",
       "      <td>C</td>\n",
       "    </tr>\n",
       "    <tr>\n",
       "      <th>2</th>\n",
       "      <td>3</td>\n",
       "      <td>1</td>\n",
       "      <td>3</td>\n",
       "      <td>Heikkinen, Miss. Laina</td>\n",
       "      <td>female</td>\n",
       "      <td>26.0</td>\n",
       "      <td>0</td>\n",
       "      <td>0</td>\n",
       "      <td>STON/O2. 3101282</td>\n",
       "      <td>7.9250</td>\n",
       "      <td>NaN</td>\n",
       "      <td>S</td>\n",
       "    </tr>\n",
       "    <tr>\n",
       "      <th>3</th>\n",
       "      <td>4</td>\n",
       "      <td>1</td>\n",
       "      <td>1</td>\n",
       "      <td>Futrelle, Mrs. Jacques Heath (Lily May Peel)</td>\n",
       "      <td>female</td>\n",
       "      <td>35.0</td>\n",
       "      <td>1</td>\n",
       "      <td>0</td>\n",
       "      <td>113803</td>\n",
       "      <td>53.1000</td>\n",
       "      <td>C123</td>\n",
       "      <td>S</td>\n",
       "    </tr>\n",
       "    <tr>\n",
       "      <th>4</th>\n",
       "      <td>5</td>\n",
       "      <td>0</td>\n",
       "      <td>3</td>\n",
       "      <td>Allen, Mr. William Henry</td>\n",
       "      <td>male</td>\n",
       "      <td>35.0</td>\n",
       "      <td>0</td>\n",
       "      <td>0</td>\n",
       "      <td>373450</td>\n",
       "      <td>8.0500</td>\n",
       "      <td>NaN</td>\n",
       "      <td>S</td>\n",
       "    </tr>\n",
       "  </tbody>\n",
       "</table>\n",
       "</div>"
      ],
      "text/plain": [
       "   PassengerId  Survived  Pclass  \\\n",
       "0            1         0       3   \n",
       "1            2         1       1   \n",
       "2            3         1       3   \n",
       "3            4         1       1   \n",
       "4            5         0       3   \n",
       "\n",
       "                                                Name     Sex   Age  SibSp  \\\n",
       "0                            Braund, Mr. Owen Harris    male  22.0      1   \n",
       "1  Cumings, Mrs. John Bradley (Florence Briggs Th...  female  38.0      1   \n",
       "2                             Heikkinen, Miss. Laina  female  26.0      0   \n",
       "3       Futrelle, Mrs. Jacques Heath (Lily May Peel)  female  35.0      1   \n",
       "4                           Allen, Mr. William Henry    male  35.0      0   \n",
       "\n",
       "   Parch            Ticket     Fare Cabin Embarked  \n",
       "0      0         A/5 21171   7.2500   NaN        S  \n",
       "1      0          PC 17599  71.2833   C85        C  \n",
       "2      0  STON/O2. 3101282   7.9250   NaN        S  \n",
       "3      0            113803  53.1000  C123        S  \n",
       "4      0            373450   8.0500   NaN        S  "
      ]
     },
     "execution_count": 5,
     "metadata": {},
     "output_type": "execute_result"
    }
   ],
   "source": [
    "df_train.head()"
   ]
  },
  {
   "cell_type": "code",
   "execution_count": 6,
   "id": "c595950e",
   "metadata": {
    "execution": {
     "iopub.execute_input": "2022-07-25T16:20:17.700411Z",
     "iopub.status.busy": "2022-07-25T16:20:17.699327Z",
     "iopub.status.idle": "2022-07-25T16:20:17.711702Z",
     "shell.execute_reply": "2022-07-25T16:20:17.710654Z"
    },
    "papermill": {
     "duration": 0.028145,
     "end_time": "2022-07-25T16:20:17.714164",
     "exception": false,
     "start_time": "2022-07-25T16:20:17.686019",
     "status": "completed"
    },
    "tags": []
   },
   "outputs": [],
   "source": [
    "df_train.set_index('PassengerId',inplace=True)"
   ]
  },
  {
   "cell_type": "code",
   "execution_count": 7,
   "id": "817aa271",
   "metadata": {
    "execution": {
     "iopub.execute_input": "2022-07-25T16:20:17.740658Z",
     "iopub.status.busy": "2022-07-25T16:20:17.739867Z",
     "iopub.status.idle": "2022-07-25T16:20:17.751637Z",
     "shell.execute_reply": "2022-07-25T16:20:17.750417Z"
    },
    "papermill": {
     "duration": 0.028556,
     "end_time": "2022-07-25T16:20:17.754633",
     "exception": false,
     "start_time": "2022-07-25T16:20:17.726077",
     "status": "completed"
    },
    "tags": []
   },
   "outputs": [],
   "source": [
    "df_train=df_train.drop(['Ticket','Fare','Cabin','Embarked','Name'],axis=1)"
   ]
  },
  {
   "cell_type": "code",
   "execution_count": 8,
   "id": "dd699aa7",
   "metadata": {
    "execution": {
     "iopub.execute_input": "2022-07-25T16:20:17.781218Z",
     "iopub.status.busy": "2022-07-25T16:20:17.780733Z",
     "iopub.status.idle": "2022-07-25T16:20:17.789231Z",
     "shell.execute_reply": "2022-07-25T16:20:17.787916Z"
    },
    "papermill": {
     "duration": 0.02477,
     "end_time": "2022-07-25T16:20:17.791730",
     "exception": false,
     "start_time": "2022-07-25T16:20:17.766960",
     "status": "completed"
    },
    "tags": []
   },
   "outputs": [],
   "source": [
    "df_train['Age'].fillna(value=df_train['Age'].mean(), inplace=True)"
   ]
  },
  {
   "cell_type": "code",
   "execution_count": 9,
   "id": "d1ad93f5",
   "metadata": {
    "execution": {
     "iopub.execute_input": "2022-07-25T16:20:17.819751Z",
     "iopub.status.busy": "2022-07-25T16:20:17.818674Z",
     "iopub.status.idle": "2022-07-25T16:20:17.837794Z",
     "shell.execute_reply": "2022-07-25T16:20:17.836630Z"
    },
    "papermill": {
     "duration": 0.035677,
     "end_time": "2022-07-25T16:20:17.840536",
     "exception": false,
     "start_time": "2022-07-25T16:20:17.804859",
     "status": "completed"
    },
    "tags": []
   },
   "outputs": [
    {
     "name": "stdout",
     "output_type": "stream",
     "text": [
      "<class 'pandas.core.frame.DataFrame'>\n",
      "Int64Index: 891 entries, 1 to 891\n",
      "Data columns (total 6 columns):\n",
      " #   Column    Non-Null Count  Dtype  \n",
      "---  ------    --------------  -----  \n",
      " 0   Survived  891 non-null    int64  \n",
      " 1   Pclass    891 non-null    int64  \n",
      " 2   Sex       891 non-null    object \n",
      " 3   Age       891 non-null    float64\n",
      " 4   SibSp     891 non-null    int64  \n",
      " 5   Parch     891 non-null    int64  \n",
      "dtypes: float64(1), int64(4), object(1)\n",
      "memory usage: 48.7+ KB\n"
     ]
    }
   ],
   "source": [
    "df_train.info()"
   ]
  },
  {
   "cell_type": "code",
   "execution_count": 10,
   "id": "b1612b3b",
   "metadata": {
    "execution": {
     "iopub.execute_input": "2022-07-25T16:20:17.867423Z",
     "iopub.status.busy": "2022-07-25T16:20:17.866659Z",
     "iopub.status.idle": "2022-07-25T16:20:17.895444Z",
     "shell.execute_reply": "2022-07-25T16:20:17.894500Z"
    },
    "papermill": {
     "duration": 0.045252,
     "end_time": "2022-07-25T16:20:17.898183",
     "exception": false,
     "start_time": "2022-07-25T16:20:17.852931",
     "status": "completed"
    },
    "tags": []
   },
   "outputs": [
    {
     "data": {
      "text/html": [
       "<div>\n",
       "<style scoped>\n",
       "    .dataframe tbody tr th:only-of-type {\n",
       "        vertical-align: middle;\n",
       "    }\n",
       "\n",
       "    .dataframe tbody tr th {\n",
       "        vertical-align: top;\n",
       "    }\n",
       "\n",
       "    .dataframe thead th {\n",
       "        text-align: right;\n",
       "    }\n",
       "</style>\n",
       "<table border=\"1\" class=\"dataframe\">\n",
       "  <thead>\n",
       "    <tr style=\"text-align: right;\">\n",
       "      <th></th>\n",
       "      <th>Survived</th>\n",
       "      <th>Pclass</th>\n",
       "      <th>Age</th>\n",
       "      <th>SibSp</th>\n",
       "      <th>Parch</th>\n",
       "    </tr>\n",
       "  </thead>\n",
       "  <tbody>\n",
       "    <tr>\n",
       "      <th>count</th>\n",
       "      <td>891.000000</td>\n",
       "      <td>891.000000</td>\n",
       "      <td>891.000000</td>\n",
       "      <td>891.000000</td>\n",
       "      <td>891.000000</td>\n",
       "    </tr>\n",
       "    <tr>\n",
       "      <th>mean</th>\n",
       "      <td>0.383838</td>\n",
       "      <td>2.308642</td>\n",
       "      <td>29.699118</td>\n",
       "      <td>0.523008</td>\n",
       "      <td>0.381594</td>\n",
       "    </tr>\n",
       "    <tr>\n",
       "      <th>std</th>\n",
       "      <td>0.486592</td>\n",
       "      <td>0.836071</td>\n",
       "      <td>13.002015</td>\n",
       "      <td>1.102743</td>\n",
       "      <td>0.806057</td>\n",
       "    </tr>\n",
       "    <tr>\n",
       "      <th>min</th>\n",
       "      <td>0.000000</td>\n",
       "      <td>1.000000</td>\n",
       "      <td>0.420000</td>\n",
       "      <td>0.000000</td>\n",
       "      <td>0.000000</td>\n",
       "    </tr>\n",
       "    <tr>\n",
       "      <th>25%</th>\n",
       "      <td>0.000000</td>\n",
       "      <td>2.000000</td>\n",
       "      <td>22.000000</td>\n",
       "      <td>0.000000</td>\n",
       "      <td>0.000000</td>\n",
       "    </tr>\n",
       "    <tr>\n",
       "      <th>50%</th>\n",
       "      <td>0.000000</td>\n",
       "      <td>3.000000</td>\n",
       "      <td>29.699118</td>\n",
       "      <td>0.000000</td>\n",
       "      <td>0.000000</td>\n",
       "    </tr>\n",
       "    <tr>\n",
       "      <th>75%</th>\n",
       "      <td>1.000000</td>\n",
       "      <td>3.000000</td>\n",
       "      <td>35.000000</td>\n",
       "      <td>1.000000</td>\n",
       "      <td>0.000000</td>\n",
       "    </tr>\n",
       "    <tr>\n",
       "      <th>max</th>\n",
       "      <td>1.000000</td>\n",
       "      <td>3.000000</td>\n",
       "      <td>80.000000</td>\n",
       "      <td>8.000000</td>\n",
       "      <td>6.000000</td>\n",
       "    </tr>\n",
       "  </tbody>\n",
       "</table>\n",
       "</div>"
      ],
      "text/plain": [
       "         Survived      Pclass         Age       SibSp       Parch\n",
       "count  891.000000  891.000000  891.000000  891.000000  891.000000\n",
       "mean     0.383838    2.308642   29.699118    0.523008    0.381594\n",
       "std      0.486592    0.836071   13.002015    1.102743    0.806057\n",
       "min      0.000000    1.000000    0.420000    0.000000    0.000000\n",
       "25%      0.000000    2.000000   22.000000    0.000000    0.000000\n",
       "50%      0.000000    3.000000   29.699118    0.000000    0.000000\n",
       "75%      1.000000    3.000000   35.000000    1.000000    0.000000\n",
       "max      1.000000    3.000000   80.000000    8.000000    6.000000"
      ]
     },
     "execution_count": 10,
     "metadata": {},
     "output_type": "execute_result"
    }
   ],
   "source": [
    "df_train.describe()"
   ]
  },
  {
   "cell_type": "code",
   "execution_count": 11,
   "id": "e34f53b1",
   "metadata": {
    "execution": {
     "iopub.execute_input": "2022-07-25T16:20:17.926137Z",
     "iopub.status.busy": "2022-07-25T16:20:17.925161Z",
     "iopub.status.idle": "2022-07-25T16:20:18.119038Z",
     "shell.execute_reply": "2022-07-25T16:20:18.117703Z"
    },
    "papermill": {
     "duration": 0.211825,
     "end_time": "2022-07-25T16:20:18.122605",
     "exception": false,
     "start_time": "2022-07-25T16:20:17.910780",
     "status": "completed"
    },
    "tags": []
   },
   "outputs": [
    {
     "data": {
      "text/plain": [
       "<AxesSubplot:xlabel='Survived', ylabel='count'>"
      ]
     },
     "execution_count": 11,
     "metadata": {},
     "output_type": "execute_result"
    },
    {
     "data": {
      "image/png": "[encoded data removed]",
      "text/plain": [
       "<Figure size 432x288 with 1 Axes>"
      ]
     },
     "metadata": {
      "needs_background": "light"
     },
     "output_type": "display_data"
    }
   ],
   "source": [
    "sns.countplot(data = df_train,x='Survived',hue='Sex')"
   ]
  },
  {
   "cell_type": "code",
   "execution_count": 12,
   "id": "b03ad430",
   "metadata": {
    "execution": {
     "iopub.execute_input": "2022-07-25T16:20:18.150053Z",
     "iopub.status.busy": "2022-07-25T16:20:18.149511Z",
     "iopub.status.idle": "2022-07-25T16:20:18.320661Z",
     "shell.execute_reply": "2022-07-25T16:20:18.319592Z"
    },
    "papermill": {
     "duration": 0.188151,
     "end_time": "2022-07-25T16:20:18.323331",
     "exception": false,
     "start_time": "2022-07-25T16:20:18.135180",
     "status": "completed"
    },
    "tags": []
   },
   "outputs": [
    {
     "data": {
      "text/plain": [
       "<AxesSubplot:xlabel='Survived', ylabel='count'>"
      ]
     },
     "execution_count": 12,
     "metadata": {},
     "output_type": "execute_result"
    },
    {
     "data": {
      "image/png": "[encoded data removed]",
      "text/plain": [
       "<Figure size 432x288 with 1 Axes>"
      ]
     },
     "metadata": {
      "needs_background": "light"
     },
     "output_type": "display_data"
    }
   ],
   "source": [
    "sns.countplot(data = df_train,x='Survived',hue='Pclass')"
   ]
  },
  {
   "cell_type": "code",
   "execution_count": 13,
   "id": "90d43d5a",
   "metadata": {
    "execution": {
     "iopub.execute_input": "2022-07-25T16:20:18.352322Z",
     "iopub.status.busy": "2022-07-25T16:20:18.351478Z",
     "iopub.status.idle": "2022-07-25T16:20:18.550601Z",
     "shell.execute_reply": "2022-07-25T16:20:18.549339Z"
    },
    "papermill": {
     "duration": 0.216943,
     "end_time": "2022-07-25T16:20:18.553735",
     "exception": false,
     "start_time": "2022-07-25T16:20:18.336792",
     "status": "completed"
    },
    "tags": []
   },
   "outputs": [
    {
     "data": {
      "text/plain": [
       "<AxesSubplot:xlabel='Parch', ylabel='count'>"
      ]
     },
     "execution_count": 13,
     "metadata": {},
     "output_type": "execute_result"
    },
    {
     "data": {
      "image/png": "[encoded data removed]",
      "text/plain": [
       "<Figure size 432x288 with 1 Axes>"
      ]
     },
     "metadata": {
      "needs_background": "light"
     },
     "output_type": "display_data"
    }
   ],
   "source": [
    "sns.countplot(data = df_train,x='Parch',hue='Survived')"
   ]
  },
  {
   "cell_type": "code",
   "execution_count": 14,
   "id": "7f6b8321",
   "metadata": {
    "execution": {
     "iopub.execute_input": "2022-07-25T16:20:18.583044Z",
     "iopub.status.busy": "2022-07-25T16:20:18.582508Z",
     "iopub.status.idle": "2022-07-25T16:20:18.596526Z",
     "shell.execute_reply": "2022-07-25T16:20:18.595681Z"
    },
    "papermill": {
     "duration": 0.03145,
     "end_time": "2022-07-25T16:20:18.598539",
     "exception": false,
     "start_time": "2022-07-25T16:20:18.567089",
     "status": "completed"
    },
    "tags": []
   },
   "outputs": [
    {
     "data": {
      "text/html": [
       "<div>\n",
       "<style scoped>\n",
       "    .dataframe tbody tr th:only-of-type {\n",
       "        vertical-align: middle;\n",
       "    }\n",
       "\n",
       "    .dataframe tbody tr th {\n",
       "        vertical-align: top;\n",
       "    }\n",
       "\n",
       "    .dataframe thead th {\n",
       "        text-align: right;\n",
       "    }\n",
       "</style>\n",
       "<table border=\"1\" class=\"dataframe\">\n",
       "  <thead>\n",
       "    <tr style=\"text-align: right;\">\n",
       "      <th></th>\n",
       "      <th>Survived</th>\n",
       "      <th>Pclass</th>\n",
       "      <th>Sex</th>\n",
       "      <th>Age</th>\n",
       "      <th>SibSp</th>\n",
       "      <th>Parch</th>\n",
       "    </tr>\n",
       "    <tr>\n",
       "      <th>PassengerId</th>\n",
       "      <th></th>\n",
       "      <th></th>\n",
       "      <th></th>\n",
       "      <th></th>\n",
       "      <th></th>\n",
       "      <th></th>\n",
       "    </tr>\n",
       "  </thead>\n",
       "  <tbody>\n",
       "    <tr>\n",
       "      <th>1</th>\n",
       "      <td>0</td>\n",
       "      <td>3</td>\n",
       "      <td>male</td>\n",
       "      <td>22.0</td>\n",
       "      <td>1</td>\n",
       "      <td>0</td>\n",
       "    </tr>\n",
       "    <tr>\n",
       "      <th>2</th>\n",
       "      <td>1</td>\n",
       "      <td>1</td>\n",
       "      <td>female</td>\n",
       "      <td>38.0</td>\n",
       "      <td>1</td>\n",
       "      <td>0</td>\n",
       "    </tr>\n",
       "    <tr>\n",
       "      <th>3</th>\n",
       "      <td>1</td>\n",
       "      <td>3</td>\n",
       "      <td>female</td>\n",
       "      <td>26.0</td>\n",
       "      <td>0</td>\n",
       "      <td>0</td>\n",
       "    </tr>\n",
       "    <tr>\n",
       "      <th>4</th>\n",
       "      <td>1</td>\n",
       "      <td>1</td>\n",
       "      <td>female</td>\n",
       "      <td>35.0</td>\n",
       "      <td>1</td>\n",
       "      <td>0</td>\n",
       "    </tr>\n",
       "    <tr>\n",
       "      <th>5</th>\n",
       "      <td>0</td>\n",
       "      <td>3</td>\n",
       "      <td>male</td>\n",
       "      <td>35.0</td>\n",
       "      <td>0</td>\n",
       "      <td>0</td>\n",
       "    </tr>\n",
       "  </tbody>\n",
       "</table>\n",
       "</div>"
      ],
      "text/plain": [
       "             Survived  Pclass     Sex   Age  SibSp  Parch\n",
       "PassengerId                                              \n",
       "1                   0       3    male  22.0      1      0\n",
       "2                   1       1  female  38.0      1      0\n",
       "3                   1       3  female  26.0      0      0\n",
       "4                   1       1  female  35.0      1      0\n",
       "5                   0       3    male  35.0      0      0"
      ]
     },
     "execution_count": 14,
     "metadata": {},
     "output_type": "execute_result"
    }
   ],
   "source": [
    "df_train.head()"
   ]
  },
  {
   "cell_type": "code",
   "execution_count": 15,
   "id": "7fa48722",
   "metadata": {
    "execution": {
     "iopub.execute_input": "2022-07-25T16:20:18.628748Z",
     "iopub.status.busy": "2022-07-25T16:20:18.627849Z",
     "iopub.status.idle": "2022-07-25T16:20:18.781879Z",
     "shell.execute_reply": "2022-07-25T16:20:18.780514Z"
    },
    "papermill": {
     "duration": 0.172779,
     "end_time": "2022-07-25T16:20:18.785235",
     "exception": false,
     "start_time": "2022-07-25T16:20:18.612456",
     "status": "completed"
    },
    "tags": []
   },
   "outputs": [],
   "source": [
    "from sklearn import preprocessing\n",
    "  \n",
    "label_encoder = preprocessing.LabelEncoder()\n",
    "  \n",
    "df_train['Sex']= label_encoder.fit_transform(df_train['Sex'])\n",
    "  "
   ]
  },
  {
   "cell_type": "code",
   "execution_count": 16,
   "id": "c2e1d671",
   "metadata": {
    "execution": {
     "iopub.execute_input": "2022-07-25T16:20:18.815219Z",
     "iopub.status.busy": "2022-07-25T16:20:18.814749Z",
     "iopub.status.idle": "2022-07-25T16:20:18.829338Z",
     "shell.execute_reply": "2022-07-25T16:20:18.828185Z"
    },
    "papermill": {
     "duration": 0.033065,
     "end_time": "2022-07-25T16:20:18.831856",
     "exception": false,
     "start_time": "2022-07-25T16:20:18.798791",
     "status": "completed"
    },
    "tags": []
   },
   "outputs": [
    {
     "data": {
      "text/html": [
       "<div>\n",
       "<style scoped>\n",
       "    .dataframe tbody tr th:only-of-type {\n",
       "        vertical-align: middle;\n",
       "    }\n",
       "\n",
       "    .dataframe tbody tr th {\n",
       "        vertical-align: top;\n",
       "    }\n",
       "\n",
       "    .dataframe thead th {\n",
       "        text-align: right;\n",
       "    }\n",
       "</style>\n",
       "<table border=\"1\" class=\"dataframe\">\n",
       "  <thead>\n",
       "    <tr style=\"text-align: right;\">\n",
       "      <th></th>\n",
       "      <th>Survived</th>\n",
       "      <th>Pclass</th>\n",
       "      <th>Sex</th>\n",
       "      <th>Age</th>\n",
       "      <th>SibSp</th>\n",
       "      <th>Parch</th>\n",
       "    </tr>\n",
       "    <tr>\n",
       "      <th>PassengerId</th>\n",
       "      <th></th>\n",
       "      <th></th>\n",
       "      <th></th>\n",
       "      <th></th>\n",
       "      <th></th>\n",
       "      <th></th>\n",
       "    </tr>\n",
       "  </thead>\n",
       "  <tbody>\n",
       "    <tr>\n",
       "      <th>1</th>\n",
       "      <td>0</td>\n",
       "      <td>3</td>\n",
       "      <td>1</td>\n",
       "      <td>22.0</td>\n",
       "      <td>1</td>\n",
       "      <td>0</td>\n",
       "    </tr>\n",
       "    <tr>\n",
       "      <th>2</th>\n",
       "      <td>1</td>\n",
       "      <td>1</td>\n",
       "      <td>0</td>\n",
       "      <td>38.0</td>\n",
       "      <td>1</td>\n",
       "      <td>0</td>\n",
       "    </tr>\n",
       "    <tr>\n",
       "      <th>3</th>\n",
       "      <td>1</td>\n",
       "      <td>3</td>\n",
       "      <td>0</td>\n",
       "      <td>26.0</td>\n",
       "      <td>0</td>\n",
       "      <td>0</td>\n",
       "    </tr>\n",
       "    <tr>\n",
       "      <th>4</th>\n",
       "      <td>1</td>\n",
       "      <td>1</td>\n",
       "      <td>0</td>\n",
       "      <td>35.0</td>\n",
       "      <td>1</td>\n",
       "      <td>0</td>\n",
       "    </tr>\n",
       "    <tr>\n",
       "      <th>5</th>\n",
       "      <td>0</td>\n",
       "      <td>3</td>\n",
       "      <td>1</td>\n",
       "      <td>35.0</td>\n",
       "      <td>0</td>\n",
       "      <td>0</td>\n",
       "    </tr>\n",
       "  </tbody>\n",
       "</table>\n",
       "</div>"
      ],
      "text/plain": [
       "             Survived  Pclass  Sex   Age  SibSp  Parch\n",
       "PassengerId                                           \n",
       "1                   0       3    1  22.0      1      0\n",
       "2                   1       1    0  38.0      1      0\n",
       "3                   1       3    0  26.0      0      0\n",
       "4                   1       1    0  35.0      1      0\n",
       "5                   0       3    1  35.0      0      0"
      ]
     },
     "execution_count": 16,
     "metadata": {},
     "output_type": "execute_result"
    }
   ],
   "source": [
    "df_train.head()"
   ]
  },
  {
   "cell_type": "code",
   "execution_count": 17,
   "id": "c939379c",
   "metadata": {
    "execution": {
     "iopub.execute_input": "2022-07-25T16:20:18.861285Z",
     "iopub.status.busy": "2022-07-25T16:20:18.860827Z",
     "iopub.status.idle": "2022-07-25T16:20:18.869395Z",
     "shell.execute_reply": "2022-07-25T16:20:18.868449Z"
    },
    "papermill": {
     "duration": 0.02637,
     "end_time": "2022-07-25T16:20:18.872003",
     "exception": false,
     "start_time": "2022-07-25T16:20:18.845633",
     "status": "completed"
    },
    "tags": []
   },
   "outputs": [],
   "source": [
    "X_train = df_train.drop(['Survived'],axis=1)\n",
    "y_train= df_train['Survived']"
   ]
  },
  {
   "cell_type": "code",
   "execution_count": 18,
   "id": "3ff6f6b0",
   "metadata": {
    "execution": {
     "iopub.execute_input": "2022-07-25T16:20:18.902052Z",
     "iopub.status.busy": "2022-07-25T16:20:18.901494Z",
     "iopub.status.idle": "2022-07-25T16:20:18.918249Z",
     "shell.execute_reply": "2022-07-25T16:20:18.916952Z"
    },
    "papermill": {
     "duration": 0.035356,
     "end_time": "2022-07-25T16:20:18.921185",
     "exception": false,
     "start_time": "2022-07-25T16:20:18.885829",
     "status": "completed"
    },
    "tags": []
   },
   "outputs": [
    {
     "data": {
      "text/html": [
       "<div>\n",
       "<style scoped>\n",
       "    .dataframe tbody tr th:only-of-type {\n",
       "        vertical-align: middle;\n",
       "    }\n",
       "\n",
       "    .dataframe tbody tr th {\n",
       "        vertical-align: top;\n",
       "    }\n",
       "\n",
       "    .dataframe thead th {\n",
       "        text-align: right;\n",
       "    }\n",
       "</style>\n",
       "<table border=\"1\" class=\"dataframe\">\n",
       "  <thead>\n",
       "    <tr style=\"text-align: right;\">\n",
       "      <th></th>\n",
       "      <th>Pclass</th>\n",
       "      <th>Sex</th>\n",
       "      <th>Age</th>\n",
       "      <th>SibSp</th>\n",
       "      <th>Parch</th>\n",
       "    </tr>\n",
       "    <tr>\n",
       "      <th>PassengerId</th>\n",
       "      <th></th>\n",
       "      <th></th>\n",
       "      <th></th>\n",
       "      <th></th>\n",
       "      <th></th>\n",
       "    </tr>\n",
       "  </thead>\n",
       "  <tbody>\n",
       "    <tr>\n",
       "      <th>1</th>\n",
       "      <td>3</td>\n",
       "      <td>1</td>\n",
       "      <td>22.000000</td>\n",
       "      <td>1</td>\n",
       "      <td>0</td>\n",
       "    </tr>\n",
       "    <tr>\n",
       "      <th>2</th>\n",
       "      <td>1</td>\n",
       "      <td>0</td>\n",
       "      <td>38.000000</td>\n",
       "      <td>1</td>\n",
       "      <td>0</td>\n",
       "    </tr>\n",
       "    <tr>\n",
       "      <th>3</th>\n",
       "      <td>3</td>\n",
       "      <td>0</td>\n",
       "      <td>26.000000</td>\n",
       "      <td>0</td>\n",
       "      <td>0</td>\n",
       "    </tr>\n",
       "    <tr>\n",
       "      <th>4</th>\n",
       "      <td>1</td>\n",
       "      <td>0</td>\n",
       "      <td>35.000000</td>\n",
       "      <td>1</td>\n",
       "      <td>0</td>\n",
       "    </tr>\n",
       "    <tr>\n",
       "      <th>5</th>\n",
       "      <td>3</td>\n",
       "      <td>1</td>\n",
       "      <td>35.000000</td>\n",
       "      <td>0</td>\n",
       "      <td>0</td>\n",
       "    </tr>\n",
       "    <tr>\n",
       "      <th>...</th>\n",
       "      <td>...</td>\n",
       "      <td>...</td>\n",
       "      <td>...</td>\n",
       "      <td>...</td>\n",
       "      <td>...</td>\n",
       "    </tr>\n",
       "    <tr>\n",
       "      <th>887</th>\n",
       "      <td>2</td>\n",
       "      <td>1</td>\n",
       "      <td>27.000000</td>\n",
       "      <td>0</td>\n",
       "      <td>0</td>\n",
       "    </tr>\n",
       "    <tr>\n",
       "      <th>888</th>\n",
       "      <td>1</td>\n",
       "      <td>0</td>\n",
       "      <td>19.000000</td>\n",
       "      <td>0</td>\n",
       "      <td>0</td>\n",
       "    </tr>\n",
       "    <tr>\n",
       "      <th>889</th>\n",
       "      <td>3</td>\n",
       "      <td>0</td>\n",
       "      <td>29.699118</td>\n",
       "      <td>1</td>\n",
       "      <td>2</td>\n",
       "    </tr>\n",
       "    <tr>\n",
       "      <th>890</th>\n",
       "      <td>1</td>\n",
       "      <td>1</td>\n",
       "      <td>26.000000</td>\n",
       "      <td>0</td>\n",
       "      <td>0</td>\n",
       "    </tr>\n",
       "    <tr>\n",
       "      <th>891</th>\n",
       "      <td>3</td>\n",
       "      <td>1</td>\n",
       "      <td>32.000000</td>\n",
       "      <td>0</td>\n",
       "      <td>0</td>\n",
       "    </tr>\n",
       "  </tbody>\n",
       "</table>\n",
       "<p>891 rows × 5 columns</p>\n",
       "</div>"
      ],
      "text/plain": [
       "             Pclass  Sex        Age  SibSp  Parch\n",
       "PassengerId                                      \n",
       "1                 3    1  22.000000      1      0\n",
       "2                 1    0  38.000000      1      0\n",
       "3                 3    0  26.000000      0      0\n",
       "4                 1    0  35.000000      1      0\n",
       "5                 3    1  35.000000      0      0\n",
       "...             ...  ...        ...    ...    ...\n",
       "887               2    1  27.000000      0      0\n",
       "888               1    0  19.000000      0      0\n",
       "889               3    0  29.699118      1      2\n",
       "890               1    1  26.000000      0      0\n",
       "891               3    1  32.000000      0      0\n",
       "\n",
       "[891 rows x 5 columns]"
      ]
     },
     "execution_count": 18,
     "metadata": {},
     "output_type": "execute_result"
    }
   ],
   "source": [
    "X_train"
   ]
  },
  {
   "cell_type": "code",
   "execution_count": 19,
   "id": "8ca98eaa",
   "metadata": {
    "execution": {
     "iopub.execute_input": "2022-07-25T16:20:18.952729Z",
     "iopub.status.busy": "2022-07-25T16:20:18.952181Z",
     "iopub.status.idle": "2022-07-25T16:20:18.970219Z",
     "shell.execute_reply": "2022-07-25T16:20:18.968967Z"
    },
    "papermill": {
     "duration": 0.0376,
     "end_time": "2022-07-25T16:20:18.973243",
     "exception": false,
     "start_time": "2022-07-25T16:20:18.935643",
     "status": "completed"
    },
    "tags": []
   },
   "outputs": [
    {
     "data": {
      "text/html": [
       "<div>\n",
       "<style scoped>\n",
       "    .dataframe tbody tr th:only-of-type {\n",
       "        vertical-align: middle;\n",
       "    }\n",
       "\n",
       "    .dataframe tbody tr th {\n",
       "        vertical-align: top;\n",
       "    }\n",
       "\n",
       "    .dataframe thead th {\n",
       "        text-align: right;\n",
       "    }\n",
       "</style>\n",
       "<table border=\"1\" class=\"dataframe\">\n",
       "  <thead>\n",
       "    <tr style=\"text-align: right;\">\n",
       "      <th></th>\n",
       "      <th>Survived</th>\n",
       "      <th>Pclass</th>\n",
       "      <th>Sex</th>\n",
       "      <th>Age</th>\n",
       "      <th>SibSp</th>\n",
       "      <th>Parch</th>\n",
       "    </tr>\n",
       "  </thead>\n",
       "  <tbody>\n",
       "    <tr>\n",
       "      <th>Survived</th>\n",
       "      <td>1.000000</td>\n",
       "      <td>-0.338481</td>\n",
       "      <td>-0.543351</td>\n",
       "      <td>-0.069809</td>\n",
       "      <td>-0.035322</td>\n",
       "      <td>0.081629</td>\n",
       "    </tr>\n",
       "    <tr>\n",
       "      <th>Pclass</th>\n",
       "      <td>-0.338481</td>\n",
       "      <td>1.000000</td>\n",
       "      <td>0.131900</td>\n",
       "      <td>-0.331339</td>\n",
       "      <td>0.083081</td>\n",
       "      <td>0.018443</td>\n",
       "    </tr>\n",
       "    <tr>\n",
       "      <th>Sex</th>\n",
       "      <td>-0.543351</td>\n",
       "      <td>0.131900</td>\n",
       "      <td>1.000000</td>\n",
       "      <td>0.084153</td>\n",
       "      <td>-0.114631</td>\n",
       "      <td>-0.245489</td>\n",
       "    </tr>\n",
       "    <tr>\n",
       "      <th>Age</th>\n",
       "      <td>-0.069809</td>\n",
       "      <td>-0.331339</td>\n",
       "      <td>0.084153</td>\n",
       "      <td>1.000000</td>\n",
       "      <td>-0.232625</td>\n",
       "      <td>-0.179191</td>\n",
       "    </tr>\n",
       "    <tr>\n",
       "      <th>SibSp</th>\n",
       "      <td>-0.035322</td>\n",
       "      <td>0.083081</td>\n",
       "      <td>-0.114631</td>\n",
       "      <td>-0.232625</td>\n",
       "      <td>1.000000</td>\n",
       "      <td>0.414838</td>\n",
       "    </tr>\n",
       "    <tr>\n",
       "      <th>Parch</th>\n",
       "      <td>0.081629</td>\n",
       "      <td>0.018443</td>\n",
       "      <td>-0.245489</td>\n",
       "      <td>-0.179191</td>\n",
       "      <td>0.414838</td>\n",
       "      <td>1.000000</td>\n",
       "    </tr>\n",
       "  </tbody>\n",
       "</table>\n",
       "</div>"
      ],
      "text/plain": [
       "          Survived    Pclass       Sex       Age     SibSp     Parch\n",
       "Survived  1.000000 -0.338481 -0.543351 -0.069809 -0.035322  0.081629\n",
       "Pclass   -0.338481  1.000000  0.131900 -0.331339  0.083081  0.018443\n",
       "Sex      -0.543351  0.131900  1.000000  0.084153 -0.114631 -0.245489\n",
       "Age      -0.069809 -0.331339  0.084153  1.000000 -0.232625 -0.179191\n",
       "SibSp    -0.035322  0.083081 -0.114631 -0.232625  1.000000  0.414838\n",
       "Parch     0.081629  0.018443 -0.245489 -0.179191  0.414838  1.000000"
      ]
     },
     "execution_count": 19,
     "metadata": {},
     "output_type": "execute_result"
    }
   ],
   "source": [
    "df_train.corr()"
   ]
  },
  {
   "cell_type": "code",
   "execution_count": 20,
   "id": "68c0e008",
   "metadata": {
    "execution": {
     "iopub.execute_input": "2022-07-25T16:20:19.004724Z",
     "iopub.status.busy": "2022-07-25T16:20:19.003741Z",
     "iopub.status.idle": "2022-07-25T16:20:19.157362Z",
     "shell.execute_reply": "2022-07-25T16:20:19.156017Z"
    },
    "papermill": {
     "duration": 0.172983,
     "end_time": "2022-07-25T16:20:19.160642",
     "exception": false,
     "start_time": "2022-07-25T16:20:18.987659",
     "status": "completed"
    },
    "tags": []
   },
   "outputs": [],
   "source": [
    "from sklearn.linear_model import LogisticRegression"
   ]
  },
  {
   "cell_type": "code",
   "execution_count": 21,
   "id": "90a7e123",
   "metadata": {
    "execution": {
     "iopub.execute_input": "2022-07-25T16:20:19.192154Z",
     "iopub.status.busy": "2022-07-25T16:20:19.191339Z",
     "iopub.status.idle": "2022-07-25T16:20:19.197075Z",
     "shell.execute_reply": "2022-07-25T16:20:19.195858Z"
    },
    "papermill": {
     "duration": 0.025118,
     "end_time": "2022-07-25T16:20:19.200359",
     "exception": false,
     "start_time": "2022-07-25T16:20:19.175241",
     "status": "completed"
    },
    "tags": []
   },
   "outputs": [],
   "source": [
    "Lr = LogisticRegression()"
   ]
  },
  {
   "cell_type": "code",
   "execution_count": 22,
   "id": "2914d813",
   "metadata": {
    "execution": {
     "iopub.execute_input": "2022-07-25T16:20:19.231858Z",
     "iopub.status.busy": "2022-07-25T16:20:19.231368Z",
     "iopub.status.idle": "2022-07-25T16:20:19.262659Z",
     "shell.execute_reply": "2022-07-25T16:20:19.261663Z"
    },
    "papermill": {
     "duration": 0.050133,
     "end_time": "2022-07-25T16:20:19.265118",
     "exception": false,
     "start_time": "2022-07-25T16:20:19.214985",
     "status": "completed"
    },
    "tags": []
   },
   "outputs": [
    {
     "data": {
      "text/plain": [
       "LogisticRegression()"
      ]
     },
     "execution_count": 22,
     "metadata": {},
     "output_type": "execute_result"
    }
   ],
   "source": [
    "Lr.fit(X_train,y_train)"
   ]
  },
  {
   "cell_type": "markdown",
   "id": "59b1eaed",
   "metadata": {
    "papermill": {
     "duration": 0.014077,
     "end_time": "2022-07-25T16:20:19.293701",
     "exception": false,
     "start_time": "2022-07-25T16:20:19.279624",
     "status": "completed"
    },
    "tags": []
   },
   "source": [
    "# Test dataset"
   ]
  },
  {
   "cell_type": "code",
   "execution_count": 23,
   "id": "edac4b5a",
   "metadata": {
    "execution": {
     "iopub.execute_input": "2022-07-25T16:20:19.325087Z",
     "iopub.status.busy": "2022-07-25T16:20:19.324146Z",
     "iopub.status.idle": "2022-07-25T16:20:19.331347Z",
     "shell.execute_reply": "2022-07-25T16:20:19.330100Z"
    },
    "papermill": {
     "duration": 0.025784,
     "end_time": "2022-07-25T16:20:19.333959",
     "exception": false,
     "start_time": "2022-07-25T16:20:19.308175",
     "status": "completed"
    },
    "tags": []
   },
   "outputs": [],
   "source": [
    "# df_test.set_index('PassengerId',inplace=True)\n",
    "df_test=df_test.drop(['Ticket','Fare','Cabin','Embarked','Name'],axis=1)"
   ]
  },
  {
   "cell_type": "code",
   "execution_count": 24,
   "id": "e373736a",
   "metadata": {
    "execution": {
     "iopub.execute_input": "2022-07-25T16:20:19.365821Z",
     "iopub.status.busy": "2022-07-25T16:20:19.364994Z",
     "iopub.status.idle": "2022-07-25T16:20:19.378252Z",
     "shell.execute_reply": "2022-07-25T16:20:19.377260Z"
    },
    "papermill": {
     "duration": 0.032211,
     "end_time": "2022-07-25T16:20:19.380742",
     "exception": false,
     "start_time": "2022-07-25T16:20:19.348531",
     "status": "completed"
    },
    "tags": []
   },
   "outputs": [
    {
     "data": {
      "text/html": [
       "<div>\n",
       "<style scoped>\n",
       "    .dataframe tbody tr th:only-of-type {\n",
       "        vertical-align: middle;\n",
       "    }\n",
       "\n",
       "    .dataframe tbody tr th {\n",
       "        vertical-align: top;\n",
       "    }\n",
       "\n",
       "    .dataframe thead th {\n",
       "        text-align: right;\n",
       "    }\n",
       "</style>\n",
       "<table border=\"1\" class=\"dataframe\">\n",
       "  <thead>\n",
       "    <tr style=\"text-align: right;\">\n",
       "      <th></th>\n",
       "      <th>PassengerId</th>\n",
       "      <th>Pclass</th>\n",
       "      <th>Sex</th>\n",
       "      <th>Age</th>\n",
       "      <th>SibSp</th>\n",
       "      <th>Parch</th>\n",
       "    </tr>\n",
       "  </thead>\n",
       "  <tbody>\n",
       "    <tr>\n",
       "      <th>0</th>\n",
       "      <td>892</td>\n",
       "      <td>3</td>\n",
       "      <td>male</td>\n",
       "      <td>34.5</td>\n",
       "      <td>0</td>\n",
       "      <td>0</td>\n",
       "    </tr>\n",
       "    <tr>\n",
       "      <th>1</th>\n",
       "      <td>893</td>\n",
       "      <td>3</td>\n",
       "      <td>female</td>\n",
       "      <td>47.0</td>\n",
       "      <td>1</td>\n",
       "      <td>0</td>\n",
       "    </tr>\n",
       "    <tr>\n",
       "      <th>2</th>\n",
       "      <td>894</td>\n",
       "      <td>2</td>\n",
       "      <td>male</td>\n",
       "      <td>62.0</td>\n",
       "      <td>0</td>\n",
       "      <td>0</td>\n",
       "    </tr>\n",
       "    <tr>\n",
       "      <th>3</th>\n",
       "      <td>895</td>\n",
       "      <td>3</td>\n",
       "      <td>male</td>\n",
       "      <td>27.0</td>\n",
       "      <td>0</td>\n",
       "      <td>0</td>\n",
       "    </tr>\n",
       "    <tr>\n",
       "      <th>4</th>\n",
       "      <td>896</td>\n",
       "      <td>3</td>\n",
       "      <td>female</td>\n",
       "      <td>22.0</td>\n",
       "      <td>1</td>\n",
       "      <td>1</td>\n",
       "    </tr>\n",
       "  </tbody>\n",
       "</table>\n",
       "</div>"
      ],
      "text/plain": [
       "   PassengerId  Pclass     Sex   Age  SibSp  Parch\n",
       "0          892       3    male  34.5      0      0\n",
       "1          893       3  female  47.0      1      0\n",
       "2          894       2    male  62.0      0      0\n",
       "3          895       3    male  27.0      0      0\n",
       "4          896       3  female  22.0      1      1"
      ]
     },
     "execution_count": 24,
     "metadata": {},
     "output_type": "execute_result"
    }
   ],
   "source": [
    "df_test.head()"
   ]
  },
  {
   "cell_type": "code",
   "execution_count": 25,
   "id": "8f60dcdd",
   "metadata": {
    "execution": {
     "iopub.execute_input": "2022-07-25T16:20:19.413853Z",
     "iopub.status.busy": "2022-07-25T16:20:19.412985Z",
     "iopub.status.idle": "2022-07-25T16:20:19.419068Z",
     "shell.execute_reply": "2022-07-25T16:20:19.418106Z"
    },
    "papermill": {
     "duration": 0.02619,
     "end_time": "2022-07-25T16:20:19.421640",
     "exception": false,
     "start_time": "2022-07-25T16:20:19.395450",
     "status": "completed"
    },
    "tags": []
   },
   "outputs": [],
   "source": [
    "df_test['Sex']= label_encoder.fit_transform(df_test['Sex'])"
   ]
  },
  {
   "cell_type": "code",
   "execution_count": 26,
   "id": "1da4ffad",
   "metadata": {
    "execution": {
     "iopub.execute_input": "2022-07-25T16:20:19.455036Z",
     "iopub.status.busy": "2022-07-25T16:20:19.454176Z",
     "iopub.status.idle": "2022-07-25T16:20:19.467809Z",
     "shell.execute_reply": "2022-07-25T16:20:19.466873Z"
    },
    "papermill": {
     "duration": 0.034382,
     "end_time": "2022-07-25T16:20:19.471271",
     "exception": false,
     "start_time": "2022-07-25T16:20:19.436889",
     "status": "completed"
    },
    "tags": []
   },
   "outputs": [
    {
     "name": "stdout",
     "output_type": "stream",
     "text": [
      "<class 'pandas.core.frame.DataFrame'>\n",
      "RangeIndex: 418 entries, 0 to 417\n",
      "Data columns (total 6 columns):\n",
      " #   Column       Non-Null Count  Dtype  \n",
      "---  ------       --------------  -----  \n",
      " 0   PassengerId  418 non-null    int64  \n",
      " 1   Pclass       418 non-null    int64  \n",
      " 2   Sex          418 non-null    int64  \n",
      " 3   Age          332 non-null    float64\n",
      " 4   SibSp        418 non-null    int64  \n",
      " 5   Parch        418 non-null    int64  \n",
      "dtypes: float64(1), int64(5)\n",
      "memory usage: 19.7 KB\n"
     ]
    }
   ],
   "source": [
    "df_test.info()"
   ]
  },
  {
   "cell_type": "code",
   "execution_count": 27,
   "id": "093ad90b",
   "metadata": {
    "execution": {
     "iopub.execute_input": "2022-07-25T16:20:19.503915Z",
     "iopub.status.busy": "2022-07-25T16:20:19.502899Z",
     "iopub.status.idle": "2022-07-25T16:20:19.509884Z",
     "shell.execute_reply": "2022-07-25T16:20:19.508771Z"
    },
    "papermill": {
     "duration": 0.026225,
     "end_time": "2022-07-25T16:20:19.512435",
     "exception": false,
     "start_time": "2022-07-25T16:20:19.486210",
     "status": "completed"
    },
    "tags": []
   },
   "outputs": [],
   "source": [
    "df_test['Age'].fillna(value=df_test['Age'].mean(), inplace=True)"
   ]
  },
  {
   "cell_type": "code",
   "execution_count": 28,
   "id": "b54deef0",
   "metadata": {
    "execution": {
     "iopub.execute_input": "2022-07-25T16:20:19.545933Z",
     "iopub.status.busy": "2022-07-25T16:20:19.545063Z",
     "iopub.status.idle": "2022-07-25T16:20:19.550954Z",
     "shell.execute_reply": "2022-07-25T16:20:19.549848Z"
    },
    "papermill": {
     "duration": 0.02589,
     "end_time": "2022-07-25T16:20:19.553527",
     "exception": false,
     "start_time": "2022-07-25T16:20:19.527637",
     "status": "completed"
    },
    "tags": []
   },
   "outputs": [],
   "source": [
    "df_test.set_index('PassengerId',inplace=True)"
   ]
  },
  {
   "cell_type": "code",
   "execution_count": 29,
   "id": "f3c91793",
   "metadata": {
    "execution": {
     "iopub.execute_input": "2022-07-25T16:20:19.584948Z",
     "iopub.status.busy": "2022-07-25T16:20:19.584428Z",
     "iopub.status.idle": "2022-07-25T16:20:19.592576Z",
     "shell.execute_reply": "2022-07-25T16:20:19.591630Z"
    },
    "papermill": {
     "duration": 0.026633,
     "end_time": "2022-07-25T16:20:19.594963",
     "exception": false,
     "start_time": "2022-07-25T16:20:19.568330",
     "status": "completed"
    },
    "tags": []
   },
   "outputs": [],
   "source": [
    "y_pred = Lr.predict(df_test)"
   ]
  },
  {
   "cell_type": "code",
   "execution_count": 30,
   "id": "6ad04bbb",
   "metadata": {
    "execution": {
     "iopub.execute_input": "2022-07-25T16:20:19.627773Z",
     "iopub.status.busy": "2022-07-25T16:20:19.626892Z",
     "iopub.status.idle": "2022-07-25T16:20:19.634777Z",
     "shell.execute_reply": "2022-07-25T16:20:19.633848Z"
    },
    "papermill": {
     "duration": 0.027225,
     "end_time": "2022-07-25T16:20:19.637008",
     "exception": false,
     "start_time": "2022-07-25T16:20:19.609783",
     "status": "completed"
    },
    "tags": []
   },
   "outputs": [
    {
     "data": {
      "text/plain": [
       "array([0, 0, 0, 0, 1, 0, 1, 0, 1, 0, 0, 0, 1, 0, 1, 1, 0, 0, 1, 0, 0, 0,\n",
       "       1, 1, 1, 0, 1, 0, 0, 0, 0, 0, 0, 0, 0, 0, 1, 1, 0, 0, 0, 1, 0, 1,\n",
       "       1, 0, 0, 0, 1, 1, 1, 0, 1, 1, 0, 0, 0, 0, 0, 1, 0, 0, 0, 1, 0, 1,\n",
       "       1, 0, 1, 1, 1, 0, 1, 1, 1, 0, 0, 1, 0, 1, 0, 0, 0, 0, 0, 0, 1, 1,\n",
       "       1, 0, 1, 0, 1, 0, 1, 0, 1, 0, 1, 0, 1, 0, 0, 0, 1, 0, 0, 0, 0, 0,\n",
       "       0, 1, 1, 1, 1, 0, 0, 1, 0, 1, 1, 0, 1, 0, 0, 1, 0, 0, 0, 0, 0, 0,\n",
       "       1, 0, 0, 0, 0, 0, 1, 0, 0, 1, 0, 0, 0, 0, 1, 0, 1, 0, 1, 0, 0, 1,\n",
       "       0, 0, 1, 1, 0, 1, 1, 0, 1, 0, 0, 1, 0, 0, 1, 1, 0, 0, 0, 0, 0, 1,\n",
       "       1, 0, 1, 1, 0, 0, 1, 0, 1, 0, 1, 0, 0, 0, 0, 1, 0, 0, 0, 0, 1, 1,\n",
       "       0, 1, 1, 0, 0, 1, 0, 1, 1, 0, 1, 0, 0, 0, 0, 1, 0, 0, 1, 0, 1, 0,\n",
       "       1, 0, 1, 0, 1, 1, 0, 1, 0, 0, 0, 1, 0, 0, 0, 0, 0, 0, 1, 1, 1, 1,\n",
       "       0, 0, 0, 0, 1, 0, 1, 1, 1, 0, 0, 0, 0, 0, 0, 0, 1, 0, 0, 0, 1, 1,\n",
       "       0, 0, 1, 0, 1, 0, 0, 0, 1, 1, 0, 1, 0, 0, 0, 0, 1, 0, 1, 1, 1, 0,\n",
       "       0, 1, 0, 0, 1, 1, 0, 0, 0, 0, 1, 0, 1, 0, 0, 0, 0, 0, 1, 1, 0, 0,\n",
       "       0, 0, 0, 0, 0, 1, 1, 1, 0, 0, 0, 0, 0, 0, 0, 0, 1, 0, 1, 0, 0, 0,\n",
       "       1, 0, 0, 1, 0, 1, 0, 0, 0, 0, 0, 0, 0, 1, 0, 1, 0, 1, 0, 1, 1, 0,\n",
       "       0, 0, 1, 0, 1, 0, 0, 1, 0, 1, 1, 0, 1, 0, 0, 1, 1, 0, 0, 1, 0, 0,\n",
       "       1, 1, 1, 0, 0, 0, 0, 0, 1, 1, 0, 1, 0, 0, 0, 0, 1, 1, 0, 0, 0, 1,\n",
       "       0, 1, 0, 0, 1, 0, 1, 1, 0, 0, 0, 0, 1, 1, 1, 1, 1, 0, 1, 0, 0, 0])"
      ]
     },
     "execution_count": 30,
     "metadata": {},
     "output_type": "execute_result"
    }
   ],
   "source": [
    "y_pred"
   ]
  },
  {
   "cell_type": "code",
   "execution_count": 31,
   "id": "9e5dd1db",
   "metadata": {
    "execution": {
     "iopub.execute_input": "2022-07-25T16:20:19.669646Z",
     "iopub.status.busy": "2022-07-25T16:20:19.668846Z",
     "iopub.status.idle": "2022-07-25T16:20:19.680384Z",
     "shell.execute_reply": "2022-07-25T16:20:19.679454Z"
    },
    "papermill": {
     "duration": 0.031092,
     "end_time": "2022-07-25T16:20:19.683073",
     "exception": false,
     "start_time": "2022-07-25T16:20:19.651981",
     "status": "completed"
    },
    "tags": []
   },
   "outputs": [],
   "source": [
    "y_true = pd.read_csv('../input/titanic/gender_submission.csv')"
   ]
  },
  {
   "cell_type": "code",
   "execution_count": 32,
   "id": "af9d4914",
   "metadata": {
    "execution": {
     "iopub.execute_input": "2022-07-25T16:20:19.714992Z",
     "iopub.status.busy": "2022-07-25T16:20:19.714012Z",
     "iopub.status.idle": "2022-07-25T16:20:19.720361Z",
     "shell.execute_reply": "2022-07-25T16:20:19.719361Z"
    },
    "papermill": {
     "duration": 0.025106,
     "end_time": "2022-07-25T16:20:19.722775",
     "exception": false,
     "start_time": "2022-07-25T16:20:19.697669",
     "status": "completed"
    },
    "tags": []
   },
   "outputs": [],
   "source": [
    "y_true=y_true['Survived']"
   ]
  },
  {
   "cell_type": "code",
   "execution_count": 33,
   "id": "1d6b8686",
   "metadata": {
    "execution": {
     "iopub.execute_input": "2022-07-25T16:20:19.754779Z",
     "iopub.status.busy": "2022-07-25T16:20:19.753851Z",
     "iopub.status.idle": "2022-07-25T16:20:19.765348Z",
     "shell.execute_reply": "2022-07-25T16:20:19.763875Z"
    },
    "papermill": {
     "duration": 0.030748,
     "end_time": "2022-07-25T16:20:19.768348",
     "exception": false,
     "start_time": "2022-07-25T16:20:19.737600",
     "status": "completed"
    },
    "tags": []
   },
   "outputs": [
    {
     "data": {
      "text/plain": [
       "array([248,  18,  10, 142])"
      ]
     },
     "execution_count": 33,
     "metadata": {},
     "output_type": "execute_result"
    }
   ],
   "source": [
    "from sklearn.metrics import confusion_matrix\n",
    "con1=confusion_matrix(y_true, y_pred)\n",
    "con1.ravel()"
   ]
  },
  {
   "cell_type": "code",
   "execution_count": 34,
   "id": "f396bdda",
   "metadata": {
    "execution": {
     "iopub.execute_input": "2022-07-25T16:20:19.801788Z",
     "iopub.status.busy": "2022-07-25T16:20:19.801238Z",
     "iopub.status.idle": "2022-07-25T16:20:19.811024Z",
     "shell.execute_reply": "2022-07-25T16:20:19.809818Z"
    },
    "papermill": {
     "duration": 0.02901,
     "end_time": "2022-07-25T16:20:19.813452",
     "exception": false,
     "start_time": "2022-07-25T16:20:19.784442",
     "status": "completed"
    },
    "tags": []
   },
   "outputs": [
    {
     "data": {
      "text/plain": [
       "0.9330143540669856"
      ]
     },
     "execution_count": 34,
     "metadata": {},
     "output_type": "execute_result"
    }
   ],
   "source": [
    "from sklearn.metrics import accuracy_score\n",
    "accuracy = accuracy_score(y_pred, y_true)\n",
    "accuracy"
   ]
  },
  {
   "cell_type": "code",
   "execution_count": 35,
   "id": "05789dda",
   "metadata": {
    "execution": {
     "iopub.execute_input": "2022-07-25T16:20:19.845633Z",
     "iopub.status.busy": "2022-07-25T16:20:19.844720Z",
     "iopub.status.idle": "2022-07-25T16:20:19.853832Z",
     "shell.execute_reply": "2022-07-25T16:20:19.852873Z"
    },
    "papermill": {
     "duration": 0.028043,
     "end_time": "2022-07-25T16:20:19.856266",
     "exception": false,
     "start_time": "2022-07-25T16:20:19.828223",
     "status": "completed"
    },
    "tags": []
   },
   "outputs": [
    {
     "data": {
      "text/plain": [
       "array([0, 0, 0, 0, 1, 0, 1, 0, 1, 0, 0, 0, 1, 0, 1, 1, 0, 0, 1, 0, 0, 0,\n",
       "       1, 1, 1, 0, 1, 0, 0, 0, 0, 0, 0, 0, 0, 0, 1, 1, 0, 0, 0, 1, 0, 1,\n",
       "       1, 0, 0, 0, 1, 1, 1, 0, 1, 1, 0, 0, 0, 0, 0, 1, 0, 0, 0, 1, 0, 1,\n",
       "       1, 0, 1, 1, 1, 0, 1, 1, 1, 0, 0, 1, 0, 1, 0, 0, 0, 0, 0, 0, 1, 1,\n",
       "       1, 0, 1, 0, 1, 0, 1, 0, 1, 0, 1, 0, 1, 0, 0, 0, 1, 0, 0, 0, 0, 0,\n",
       "       0, 1, 1, 1, 1, 0, 0, 1, 0, 1, 1, 0, 1, 0, 0, 1, 0, 0, 0, 0, 0, 0,\n",
       "       1, 0, 0, 0, 0, 0, 1, 0, 0, 1, 0, 0, 0, 0, 1, 0, 1, 0, 1, 0, 0, 1,\n",
       "       0, 0, 1, 1, 0, 1, 1, 0, 1, 0, 0, 1, 0, 0, 1, 1, 0, 0, 0, 0, 0, 1,\n",
       "       1, 0, 1, 1, 0, 0, 1, 0, 1, 0, 1, 0, 0, 0, 0, 1, 0, 0, 0, 0, 1, 1,\n",
       "       0, 1, 1, 0, 0, 1, 0, 1, 1, 0, 1, 0, 0, 0, 0, 1, 0, 0, 1, 0, 1, 0,\n",
       "       1, 0, 1, 0, 1, 1, 0, 1, 0, 0, 0, 1, 0, 0, 0, 0, 0, 0, 1, 1, 1, 1,\n",
       "       0, 0, 0, 0, 1, 0, 1, 1, 1, 0, 0, 0, 0, 0, 0, 0, 1, 0, 0, 0, 1, 1,\n",
       "       0, 0, 1, 0, 1, 0, 0, 0, 1, 1, 0, 1, 0, 0, 0, 0, 1, 0, 1, 1, 1, 0,\n",
       "       0, 1, 0, 0, 1, 1, 0, 0, 0, 0, 1, 0, 1, 0, 0, 0, 0, 0, 1, 1, 0, 0,\n",
       "       0, 0, 0, 0, 0, 1, 1, 1, 0, 0, 0, 0, 0, 0, 0, 0, 1, 0, 1, 0, 0, 0,\n",
       "       1, 0, 0, 1, 0, 1, 0, 0, 0, 0, 0, 0, 0, 1, 0, 1, 0, 1, 0, 1, 1, 0,\n",
       "       0, 0, 1, 0, 1, 0, 0, 1, 0, 1, 1, 0, 1, 0, 0, 1, 1, 0, 0, 1, 0, 0,\n",
       "       1, 1, 1, 0, 0, 0, 0, 0, 1, 1, 0, 1, 0, 0, 0, 0, 1, 1, 0, 0, 0, 1,\n",
       "       0, 1, 0, 0, 1, 0, 1, 1, 0, 0, 0, 0, 1, 1, 1, 1, 1, 0, 1, 0, 0, 0])"
      ]
     },
     "execution_count": 35,
     "metadata": {},
     "output_type": "execute_result"
    }
   ],
   "source": [
    "y_pred"
   ]
  },
  {
   "cell_type": "code",
   "execution_count": 36,
   "id": "a9779a95",
   "metadata": {
    "execution": {
     "iopub.execute_input": "2022-07-25T16:20:19.889230Z",
     "iopub.status.busy": "2022-07-25T16:20:19.888088Z",
     "iopub.status.idle": "2022-07-25T16:20:19.894221Z",
     "shell.execute_reply": "2022-07-25T16:20:19.893260Z"
    },
    "papermill": {
     "duration": 0.025485,
     "end_time": "2022-07-25T16:20:19.897076",
     "exception": false,
     "start_time": "2022-07-25T16:20:19.871591",
     "status": "completed"
    },
    "tags": []
   },
   "outputs": [],
   "source": [
    "output = df_test"
   ]
  },
  {
   "cell_type": "code",
   "execution_count": 37,
   "id": "560dea28",
   "metadata": {
    "execution": {
     "iopub.execute_input": "2022-07-25T16:20:19.930239Z",
     "iopub.status.busy": "2022-07-25T16:20:19.929774Z",
     "iopub.status.idle": "2022-07-25T16:20:19.938121Z",
     "shell.execute_reply": "2022-07-25T16:20:19.937059Z"
    },
    "papermill": {
     "duration": 0.02811,
     "end_time": "2022-07-25T16:20:19.940744",
     "exception": false,
     "start_time": "2022-07-25T16:20:19.912634",
     "status": "completed"
    },
    "tags": []
   },
   "outputs": [],
   "source": [
    "output['Survived'] = y_pred\n",
    "Output = output.drop(['Pclass','Sex','Age','SibSp','Parch'],axis=1)"
   ]
  },
  {
   "cell_type": "code",
   "execution_count": 38,
   "id": "61c1f81f",
   "metadata": {
    "execution": {
     "iopub.execute_input": "2022-07-25T16:20:19.973649Z",
     "iopub.status.busy": "2022-07-25T16:20:19.972842Z",
     "iopub.status.idle": "2022-07-25T16:20:19.985158Z",
     "shell.execute_reply": "2022-07-25T16:20:19.984170Z"
    },
    "papermill": {
     "duration": 0.031817,
     "end_time": "2022-07-25T16:20:19.987698",
     "exception": false,
     "start_time": "2022-07-25T16:20:19.955881",
     "status": "completed"
    },
    "tags": []
   },
   "outputs": [
    {
     "data": {
      "text/html": [
       "<div>\n",
       "<style scoped>\n",
       "    .dataframe tbody tr th:only-of-type {\n",
       "        vertical-align: middle;\n",
       "    }\n",
       "\n",
       "    .dataframe tbody tr th {\n",
       "        vertical-align: top;\n",
       "    }\n",
       "\n",
       "    .dataframe thead th {\n",
       "        text-align: right;\n",
       "    }\n",
       "</style>\n",
       "<table border=\"1\" class=\"dataframe\">\n",
       "  <thead>\n",
       "    <tr style=\"text-align: right;\">\n",
       "      <th></th>\n",
       "      <th>Survived</th>\n",
       "    </tr>\n",
       "    <tr>\n",
       "      <th>PassengerId</th>\n",
       "      <th></th>\n",
       "    </tr>\n",
       "  </thead>\n",
       "  <tbody>\n",
       "    <tr>\n",
       "      <th>892</th>\n",
       "      <td>0</td>\n",
       "    </tr>\n",
       "    <tr>\n",
       "      <th>893</th>\n",
       "      <td>0</td>\n",
       "    </tr>\n",
       "    <tr>\n",
       "      <th>894</th>\n",
       "      <td>0</td>\n",
       "    </tr>\n",
       "    <tr>\n",
       "      <th>895</th>\n",
       "      <td>0</td>\n",
       "    </tr>\n",
       "    <tr>\n",
       "      <th>896</th>\n",
       "      <td>1</td>\n",
       "    </tr>\n",
       "    <tr>\n",
       "      <th>...</th>\n",
       "      <td>...</td>\n",
       "    </tr>\n",
       "    <tr>\n",
       "      <th>1305</th>\n",
       "      <td>0</td>\n",
       "    </tr>\n",
       "    <tr>\n",
       "      <th>1306</th>\n",
       "      <td>1</td>\n",
       "    </tr>\n",
       "    <tr>\n",
       "      <th>1307</th>\n",
       "      <td>0</td>\n",
       "    </tr>\n",
       "    <tr>\n",
       "      <th>1308</th>\n",
       "      <td>0</td>\n",
       "    </tr>\n",
       "    <tr>\n",
       "      <th>1309</th>\n",
       "      <td>0</td>\n",
       "    </tr>\n",
       "  </tbody>\n",
       "</table>\n",
       "<p>418 rows × 1 columns</p>\n",
       "</div>"
      ],
      "text/plain": [
       "             Survived\n",
       "PassengerId          \n",
       "892                 0\n",
       "893                 0\n",
       "894                 0\n",
       "895                 0\n",
       "896                 1\n",
       "...               ...\n",
       "1305                0\n",
       "1306                1\n",
       "1307                0\n",
       "1308                0\n",
       "1309                0\n",
       "\n",
       "[418 rows x 1 columns]"
      ]
     },
     "execution_count": 38,
     "metadata": {},
     "output_type": "execute_result"
    }
   ],
   "source": [
    "Output"
   ]
  },
  {
   "cell_type": "code",
   "execution_count": 39,
   "id": "9a0cfca5",
   "metadata": {
    "execution": {
     "iopub.execute_input": "2022-07-25T16:20:20.021824Z",
     "iopub.status.busy": "2022-07-25T16:20:20.020979Z",
     "iopub.status.idle": "2022-07-25T16:20:20.031171Z",
     "shell.execute_reply": "2022-07-25T16:20:20.030036Z"
    },
    "papermill": {
     "duration": 0.030798,
     "end_time": "2022-07-25T16:20:20.033999",
     "exception": false,
     "start_time": "2022-07-25T16:20:20.003201",
     "status": "completed"
    },
    "tags": []
   },
   "outputs": [],
   "source": [
    "Output.to_csv('submission.csv')"
   ]
  },
  {
   "cell_type": "code",
   "execution_count": null,
   "id": "b1259f6e",
   "metadata": {
    "papermill": {
     "duration": 0.015113,
     "end_time": "2022-07-25T16:20:20.064964",
     "exception": false,
     "start_time": "2022-07-25T16:20:20.049851",
     "status": "completed"
    },
    "tags": []
   },
   "outputs": [],
   "source": []
  }
 ],
 "metadata": {
  "kernelspec": {
   "display_name": "Python 3",
   "language": "python",
   "name": "python3"
  },
  "language_info": {
   "codemirror_mode": {
    "name": "ipython",
    "version": 3
   },
   "file_extension": ".py",
   "mimetype": "text/x-python",
   "name": "python",
   "nbconvert_exporter": "python",
   "pygments_lexer": "ipython3",
   "version": "3.7.12"
  },
  "papermill": {
   "default_parameters": {},
   "duration": 16.816966,
   "end_time": "2022-07-25T16:20:21.206512",
   "environment_variables": {},
   "exception": null,
   "input_path": "__notebook__.ipynb",
   "output_path": "__notebook__.ipynb",
   "parameters": {},
   "start_time": "2022-07-25T16:20:04.389546",
   "version": "2.3.4"
  }
 },
 "nbformat": 4,
 "nbformat_minor": 5
}
